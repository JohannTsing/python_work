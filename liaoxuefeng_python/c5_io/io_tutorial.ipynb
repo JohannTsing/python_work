{
 "cells": [
  {
   "cell_type": "markdown",
   "metadata": {},
   "source": [
    "# Python IO 编程学习指南\n",
    "\n",
    "本 Jupyter Notebook 旨在帮助你学习和实践 Python 中常见的输入/输出 (IO) 操作。我们将涵盖文件读写、内存中的文本和字节流 (`StringIO`, `BytesIO`)、文件和目录操作，以及对象的序列化与反序列化。\n",
    "\n",
    "请确保在运行代码前，你已经理解了每个示例的上下文，并注意文件路径和权限问题。"
   ]
  },
  {
   "cell_type": "code",
   "execution_count": 3,
   "metadata": {},
   "outputs": [],
   "source": [
    "# 导入必要的库\n",
    "import os\n",
    "import io\n",
    "import json\n",
    "import pickle"
   ]
  },
  {
   "cell_type": "markdown",
   "metadata": {},
   "source": [
    "## 1. 文件读写 (File Read/Write)"
   ]
  },
  {
   "cell_type": "code",
   "execution_count": 2,
   "metadata": {},
   "outputs": [
    {
     "name": "stdout",
     "output_type": "stream",
     "text": [
      "读取到的内容:\n",
      "Hello, Python IO!\n",
      "This is the second line.\n",
      "This is the third line.\n"
     ]
    }
   ],
   "source": [
    "import os\n",
    "# --- 1.1 基本写入和读取 ---\n",
    "filename = 'example.txt'\n",
    "\n",
    "# 写入文本到文件\n",
    "with open(filename, 'w', encoding='utf-8') as f:\n",
    "    f.write('Hello, Python IO!\\nThis is the second line.\\nThis is the third line.')\n",
    "\n",
    "# 读取文件内容\n",
    "with open(filename, 'r', encoding='utf-8') as f:\n",
    "    content = f.read()\n",
    "    print(\"读取到的内容:\")\n",
    "    print(content)\n",
    "\n",
    "# 删除示例文件\n",
    "os.remove(filename)"
   ]
  },
  {
   "cell_type": "code",
   "execution_count": null,
   "metadata": {},
   "outputs": [],
   "source": [
    "# --- 1.2 逐行读取 ---\n",
    "filename = 'example_lines.txt'\n",
    "\n",
    "# 写入多行\n",
    "lines_to_write = ['第一行\\n', '第二行\\n', '第三行']\n",
    "with open(filename, 'w', encoding='utf-8') as f:\n",
    "    f.writelines(lines_to_write)\n",
    "\n",
    "# 逐行读取\n",
    "print(\"逐行读取:\")\n",
    "with open(filename, 'r', encoding='utf-8') as f:\n",
    "    for line in f:\n",
    "        print(repr(line)) # 使用 repr 显示换行符\n",
    "\n",
    "# 删除示例文件\n",
    "os.remove(filename)"
   ]
  },
  {
   "cell_type": "markdown",
   "metadata": {},
   "source": [
    "## 2. StringIO 和 BytesIO"
   ]
  },
  {
   "cell_type": "code",
   "execution_count": null,
   "metadata": {},
   "outputs": [],
   "source": [
    "# --- 2.1 StringIO: 在内存中读写 str ---\n",
    "print(\"--- StringIO 示例 ---\")\n",
    "s_io = io.StringIO()\n",
    "s_io.write('Hello')\n",
    "s_io.write(' ') \n",
    "s_io.write('StringIO!')\n",
    "# 获取写入的值\n",
    "print(s_io.getvalue())\n",
    "s_io.close() # 关闭 StringIO 对象\n",
    "\n",
    "# 也可以用字符串初始化\n",
    "s_io2 = io.StringIO('Initial data\\nSecond line')\n",
    "print(s_io2.readline())\n",
    "s_io2.close()"
   ]
  },
  {
   "cell_type": "code",
   "execution_count": null,
   "metadata": {},
   "outputs": [],
   "source": [
    "# --- 2.2 BytesIO: 在内存中读写 bytes ---\n",
    "print(\"\\n--- BytesIO 示例 ---\")\n",
    "b_io = io.BytesIO()\n",
    "# 写入字节数据\n",
    "b_io.write('你好'.encode('utf-8')) # str -> bytes\n",
    "b_io.write(b' Hello BytesIO!') # 直接写入 bytes\n",
    "# 获取写入的值\n",
    "print(b_io.getvalue()) # bytes\n",
    "print(b_io.getvalue().decode('utf-8')) # bytes -> str\n",
    "b_io.close() # 关闭 BytesIO 对象\n",
    "\n",
    "# 也可以用字节数据初始化\n",
    "b_io2 = io.BytesIO(b'Initial bytes\\nSecond line')\n",
    "print(b_io2.readline())\n",
    "b_io2.close()"
   ]
  },
  {
   "cell_type": "markdown",
   "metadata": {},
   "source": [
    "## 3. 操作文件和目录 (os, os.path, pathlib)"
   ]
  },
  {
   "cell_type": "code",
   "execution_count": null,
   "metadata": {},
   "outputs": [],
   "source": [
    "# --- 3.1 获取路径信息 ---\n",
    "print(\"--- 获取路径信息 ---\")\n",
    "current_file = 'io_tutorial.ipynb'\n",
    "print(f\"当前文件名: {current_file}\")\n",
    "print(f\"绝对路径: {os.path.abspath(current_file)}\")\n",
    "print(f\"所在目录: {os.path.dirname(os.path.abspath(current_file))}\")\n",
    "print(f\"文件名(不含路径): {os.path.basename(os.path.abspath(current_file))}\")\n",
    "print(f\"文件名和扩展名: {os.path.splitext(current_file)}\")"
   ]
  },
  {
   "cell_type": "code",
   "execution_count": null,
   "metadata": {},
   "outputs": [],
   "source": [
    "# --- 3.2 检查文件/目录是否存在 ---\n",
    "print(\"\\n--- 检查文件/目录是否存在 ---\")\n",
    "print(f\"当前文件 '{current_file}' 存在吗? {os.path.exists(current_file)}\")\n",
    "print(f\"目录 'non_existent_dir' 存在吗? {os.path.exists('non_existent_dir')} \")\n",
    "print(f\"当前文件是文件吗? {os.path.isfile(current_file)}\")\n",
    "print(f\"当前文件是目录吗? {os.path.isdir(current_file)}\")"
   ]
  },
  {
   "cell_type": "code",
   "execution_count": null,
   "metadata": {},
   "outputs": [],
   "source": [
    "# --- 3.3 创建和删除目录 (请谨慎操作) ---\n",
    "print(\"\\n--- 创建和删除目录 ---\")\n",
    "test_dir = 'temp_test_dir'\n",
    "if not os.path.exists(test_dir):\n",
    "    os.mkdir(test_dir)\n",
    "    print(f\"已创建目录: {test_dir}\")\n",
    "else:\n",
    "    print(f\"目录 {test_dir} 已存在\")\n",
    "\n",
    "# 列出目录内容\n",
    "print(f\"目录 '{test_dir}' 的内容: {os.listdir(test_dir)}\")\n",
    "\n",
    "# 删除空目录\n",
    "os.rmdir(test_dir)\n",
    "print(f\"已删除目录: {test_dir}\")"
   ]
  },
  {
   "cell_type": "markdown",
   "metadata": {},
   "source": [
    "## 4. 序列化 (Serialization)\n",
    "将内存中的对象转换成可以存储或传输的格式（如字节流、文本），以及其反向过程。"
   ]
  },
  {
   "cell_type": "code",
   "execution_count": null,
   "metadata": {},
   "outputs": [],
   "source": [
    "# --- 4.1 JSON 序列化 (文本格式) ---\n",
    "print(\"--- JSON 序列化 ---\")\n",
    "data = {\n",
    "    'name': 'Alice',\n",
    "    'age': 30,\n",
    "    'city': 'New York',\n",
    "    'hobbies': ['reading', 'swimming']\n",
    "}\n",
    "\n",
    "# 序列化为 JSON 字符串\n",
    "json_str = json.dumps(data, ensure_ascii=False, indent=2) # ensure_ascii=False 以支持中文\n",
    "print(\"序列化后的 JSON 字符串:\")\n",
    "print(json_str)\n",
    "\n",
    "# 反序列化 (从字符串)\n",
    "data_loaded_from_str = json.loads(json_str)\n",
    "print(\"\\n从字符串反序列化后的对象:\")\n",
    "print(data_loaded_from_str)\n",
    "print(f\"类型: {type(data_loaded_from_str)}, 姓名: {data_loaded_from_str['name']}\")\n",
    "\n",
    "# 序列化到文件\n",
    "json_filename = 'data.json'\n",
    "with open(json_filename, 'w', encoding='utf-8') as f:\n",
    "    json.dump(data, f, ensure_ascii=False, indent=2)\n",
    "print(f\"\\n数据已保存到 {json_filename}\")\n",
    "\n",
    "# 从文件反序列化\n",
    "with open(json_filename, 'r', encoding='utf-8') as f:\n",
    "    data_loaded_from_file = json.load(f)\n",
    "print(\"\\n从文件反序列化后的对象:\")\n",
    "print(data_loaded_from_file)\n",
    "\n",
    "# 清理文件\n",
    "os.remove(json_filename)"
   ]
  },
  {
   "cell_type": "code",
   "execution_count": null,
   "metadata": {},
   "outputs": [],
   "source": [
    "# --- 4.2 Pickle 序列化 (Python 特定的二进制格式) ---\n",
    "print(\"\\n--- Pickle 序列化 ---\")\n",
    "class Person:\n",
    "    def __init__(self, name, age):\n",
    "        self.name = name\n",
    "        self.age = age\n",
    "    def __repr__(self):\n",
    "        return f\"Person(name='{self.name}', age={self.age})\"\n",
    "\n",
    "person_obj = Person('Bob', 25)\n",
    "print(f\"原始对象: {person_obj}\")\n",
    "\n",
    "# 序列化到字节流 (BytesIO)\n",
    "bytes_io = io.BytesIO()\n",
    "pickle.dump(person_obj, bytes_io)\n",
    "pickled_data = bytes_io.getvalue()\n",
    "print(f\"\\n序列化后的字节数据: {pickled_data}\")\n",
    "bytes_io.close()\n",
    "\n",
    "# 从字节流反序列化\n",
    "bytes_io_for_load = io.BytesIO(pickled_data)\n",
    "person_obj_loaded = pickle.load(bytes_io_for_load)\n",
    "print(f\"\\n从字节流反序列化后的对象: {person_obj_loaded}\")\n",
    "print(f\"类型: {type(person_obj_loaded)}, 姓名: {person_obj_loaded.name}\")\n",
    "bytes_io_for_load.close()\n",
    "\n",
    "# 序列化到文件\n",
    "pkl_filename = 'person.pkl'\n",
    "with open(pkl_filename, 'wb') as f: # 注意是 'wb' 模式\n",
    "    pickle.dump(person_obj, f)\n",
    "print(f\"\\n对象已保存到 {pkl_filename}\")\n",
    "\n",
    "# 从文件反序列化\n",
    "with open(pkl_filename, 'rb') as f: # 注意是 'rb' 模式\n",
    "    person_obj_loaded_from_file = pickle.load(f)\n",
    "print(f\"\\n从文件反序列化后的对象: {person_obj_loaded_from_file}\")\n",
    "\n",
    "# 清理文件\n",
    "os.remove(pkl_filename)"
   ]
  },
  {
   "cell_type": "markdown",
   "metadata": {},
   "source": [
    "## 总结\n",
    "\n",
    "本 Notebook 涵盖了 Python IO 编程的几个核心方面：\n",
    "- **文件读写**: 使用 `open()` 和 `with` 语句安全地操作文件。\n",
    "- **StringIO/BytesIO**: 在内存中模拟文件操作，处理文本或二进制数据流。\n",
    "- **文件和目录操作**: 使用 `os` 和 `os.path` 模块进行路径处理、检查存在性、创建/删除目录。\n",
    "- **序列化**: 使用 `json` 进行跨语言兼容的文本序列化，使用 `pickle` 进行 Python 特定的二进制序列化。\n",
    "\n",
    "掌握这些操作是进行文件处理、数据持久化和网络通信等任务的基础。"
   ]
  }
 ],
 "metadata": {
  "kernelspec": {
   "display_name": "base",
   "language": "python",
   "name": "python3"
  },
  "language_info": {
   "codemirror_mode": {
    "name": "ipython",
    "version": 3
   },
   "file_extension": ".py",
   "mimetype": "text/x-python",
   "name": "python",
   "nbconvert_exporter": "python",
   "pygments_lexer": "ipython3",
   "version": "3.11.7"
  }
 },
 "nbformat": 4,
 "nbformat_minor": 4
}
